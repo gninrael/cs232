{
  "nbformat": 4,
  "nbformat_minor": 0,
  "metadata": {
    "colab": {
      "name": "demo.ipynb",
      "provenance": [],
      "authorship_tag": "ABX9TyM2Vo2y8L4VryzLJYWZ0eH0",
      "include_colab_link": true
    },
    "kernelspec": {
      "name": "python3",
      "display_name": "Python 3"
    }
  },
  "cells": [
    {
      "cell_type": "markdown",
      "metadata": {
        "id": "view-in-github",
        "colab_type": "text"
      },
      "source": [
        "<a href=\"https://colab.research.google.com/github/gninrael/cs232/blob/master/demo.ipynb\" target=\"_parent\"><img src=\"https://colab.research.google.com/assets/colab-badge.svg\" alt=\"Open In Colab\"/></a>"
      ]
    },
    {
      "cell_type": "code",
      "metadata": {
        "id": "kXE77knPttBS",
        "colab_type": "code",
        "colab": {
          "base_uri": "https://localhost:8080/",
          "height": 90
        },
        "outputId": "ff730f59-75da-4375-81bf-3e01501a81fe"
      },
      "source": [
        "!pip install tcmpr"
      ],
      "execution_count": 2,
      "outputs": [
        {
          "output_type": "stream",
          "text": [
            "Collecting tcmpr\n",
            "  Downloading https://files.pythonhosted.org/packages/0f/6c/46893726812515a801be180555f30690654230573a2d2fa68b3c81e6a5b9/tcmpr-0.2-py2.py3-none-any.whl\n",
            "Installing collected packages: tcmpr\n",
            "Successfully installed tcmpr-0.2\n"
          ],
          "name": "stdout"
        }
      ]
    }
  ]
}